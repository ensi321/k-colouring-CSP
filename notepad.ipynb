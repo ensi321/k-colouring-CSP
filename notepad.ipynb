{
 "cells": [
  {
   "cell_type": "code",
   "execution_count": 81,
   "metadata": {
    "collapsed": false
   },
   "outputs": [
    {
     "name": "stdout",
     "output_type": "stream",
     "text": [
      "9 [2, 1, 5, 1, 1]\n",
      "10 [1, 2, 5, 0, 2]\n",
      "11 [1, 1, 5, 1, 2]\n",
      "12 [0, 2, 4, 2, 2]\n",
      "13 [0, 1, 5, 2, 1, 1]\n",
      "14 [0, 1, 3, 4, 1, 1]\n",
      "15 [0, 1, 3, 2, 3, 1]\n",
      "16 [0, 0, 3, 3, 3, 1]\n",
      "17 [0, 0, 1, 5, 3, 1]\n",
      "18 [0, 0, 0, 6, 2, 2]\n",
      "19 [0, 0, 0, 4, 4, 2]\n",
      "9\t10\t11\t12\t13\t14\t15\t16\t17\t18\t19\n",
      "0\t0\t0\t1\t1\t1\t1\t2\t2\t3\t3\n",
      "4\t4\t4\t4\t5\t5\t5\t5\t5\t5\t5\n"
     ]
    }
   ],
   "source": [
    "import networkx as nx\n",
    "from nxpd import draw\n",
    "\n",
    "from cspbase import *\n",
    "from heuristic_tests import tests\n",
    "from k_color_csp import kColoring\n",
    "import orderings as stu_orderings\n",
    "from propagators import *\n",
    "\n",
    "K = 4\n",
    "LAYOUT = 'circo'\n",
    "\n",
    "num_constraints = []\n",
    "min_deg = []\n",
    "max_deg = []\n",
    "\n",
    "for t_i in range(1, len(tests) + 1):\n",
    "    test = tests[t_i]\n",
    "    colours = [\"#00C12B\", \"#FF7C00\", \"blue\", \"black\"]\n",
    "\n",
    "    csp, var_array = kColoring(test[0], test[1], K)\n",
    "\n",
    "#     print(\"Number of constraints\", len(csp.get_all_cons()))\n",
    "\n",
    "#     solver = BT(csp)\n",
    "#     solver.bt_search(prop_GAC, stu_orderings.ord_sequential, stu_orderings.val_arbitrary)\n",
    "\n",
    "    G = nx.Graph()\n",
    "    # G.graph['dpi'] = 120\n",
    "#     [G.add_node(v.name.split(\" \")[1], color=colours[v.get_assigned_value()], style='filled', fontcolor='white') for v in csp.get_all_vars()]\n",
    "    G.add_nodes_from(test[0])\n",
    "    G.add_edges_from(test[1])\n",
    "    print(t_i + 8, nx.degree_histogram(G))\n",
    "#     print(list(nx.edges(G, 'G')))\n",
    "    num_constraints.append(len(csp.get_all_cons()))\n",
    "    min_deg.append(min(nx.degree(G).values()))\n",
    "    max_deg.append(max(nx.degree(G).values()))\n",
    "    \n",
    "#     draw(G, filename='kcolour_{}_{}_{}.png'.format(K, t_i, LAYOUT), layout=LAYOUT, show=False)\n",
    "\n",
    "\n",
    "print(\"\\t\".join([str(v) for v in num_constraints]))\n",
    "print(\"\\t\".join([str(v) for v in min_deg]))\n",
    "print(\"\\t\".join([str(v) for v in max_deg]))"
   ]
  },
  {
   "cell_type": "code",
   "execution_count": null,
   "metadata": {
    "collapsed": true
   },
   "outputs": [],
   "source": []
  },
  {
   "cell_type": "code",
   "execution_count": null,
   "metadata": {
    "collapsed": true
   },
   "outputs": [],
   "source": []
  }
 ],
 "metadata": {
  "kernelspec": {
   "display_name": "Python 3",
   "language": "python",
   "name": "python3"
  },
  "language_info": {
   "codemirror_mode": {
    "name": "ipython",
    "version": 3
   },
   "file_extension": ".py",
   "mimetype": "text/x-python",
   "name": "python",
   "nbconvert_exporter": "python",
   "pygments_lexer": "ipython3",
   "version": "3.5.2"
  }
 },
 "nbformat": 4,
 "nbformat_minor": 0
}
